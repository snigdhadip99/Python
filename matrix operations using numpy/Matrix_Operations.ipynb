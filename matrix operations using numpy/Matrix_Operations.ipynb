{
 "cells": [
  {
   "cell_type": "markdown",
   "metadata": {},
   "source": [
    "1. Write a program to inverse a 3 X 3 matrix .\n",
    "Create a Class Matrix and built the methods inverse, adjoint, transpose,\n",
    "determinant for the above program.Use file to take inputs and store output."
   ]
  },
  {
   "cell_type": "code",
   "execution_count": null,
   "metadata": {
    "scrolled": true
   },
   "outputs": [],
   "source": []
  },
  {
   "cell_type": "code",
   "execution_count": 68,
   "metadata": {},
   "outputs": [],
   "source": [
    "import numpy as np\n",
    "import pymatrix\n",
    "\n",
    "file1 = open(\"input.txt\",\"r\") \n",
    "content=file1.readlines()\n",
    "file2=open(\"output1.txt\",\"w\")\n",
    "\n",
    "def display(matrixx):\n",
    "        file2.write(\"\\n\")\n",
    "        matrixx=matrixx.tolist()\n",
    "        for i in range(3):\n",
    "            for j in range(3):\n",
    "                num=round(matrixx[i][j],3)\n",
    "                file2.write(str(num))\n",
    "                file2.write(\"\\t\")\n",
    "            file2.write(\"\\n\")\n",
    "        file2.write(\"\\n\")\n",
    "\n",
    "\n",
    "class Matrix:\n",
    "    def __init__(self):\n",
    "        self._original_matrix=[[ 0 for i in range(3)] for j in range(3)]\n",
    "        self._original_matrix=[[ int(x) for x in item.split()] for item in content[0:3]]\n",
    "        self._original_matrix1=self._original_matrix\n",
    "        self._original_matrix1=pymatrix.matrix(self._original_matrix1)\n",
    "        self._original_matrix=np.asarray(self._original_matrix)\n",
    "       \n",
    "        \n",
    "    def inverse_matrix(self):\n",
    "        inverse=np.linalg.inv(self._original_matrix)\n",
    "        return inverse\n",
    "        \n",
    "    def adjoint_matrix(self):\n",
    "        adjoint=self._original_matrix1.adjoint()\n",
    "        adjoint=np.asarray(adjoint)\n",
    "        return adjoint\n",
    "        \n",
    "    def transpose_matrix(self):\n",
    "        transpose=np.transpose(self._original_matrix)\n",
    "        return transpose\n",
    "        \n",
    "    def determinant_matrix(self):\n",
    "        determinant= np.linalg.det(self._original_matrix)\n",
    "        file2.write(\"-----determinant of the matrix---\")\n",
    "        file2.write(\"\\n\")\n",
    "        file2.write(str(determinant))\n",
    "        \n",
    "    \n",
    "matrix=Matrix()\n",
    "inverse=matrix.inverse_matrix()\n",
    "adjoint=matrix.adjoint_matrix()\n",
    "transpose=matrix.transpose_matrix()\n",
    "matrix.determinant_matrix()\n",
    "file2.write(\"\\n\")\n",
    "file2.write(\"---inverse is ----\")\n",
    "display(inverse)\n",
    "file2.write(\"----adjoint is---\")\n",
    "display(adjoint)\n",
    "file2.write(\"---transpose is----\")\n",
    "display(transpose)\n",
    "\n",
    "file1.close()\n",
    "file2.close()"
   ]
  },
  {
   "cell_type": "code",
   "execution_count": null,
   "metadata": {},
   "outputs": [],
   "source": []
  }
 ],
 "metadata": {
  "kernelspec": {
   "display_name": "Python 3",
   "language": "python",
   "name": "python3"
  },
  "language_info": {
   "codemirror_mode": {
    "name": "ipython",
    "version": 3
   },
   "file_extension": ".py",
   "mimetype": "text/x-python",
   "name": "python",
   "nbconvert_exporter": "python",
   "pygments_lexer": "ipython3",
   "version": "3.8.5"
  }
 },
 "nbformat": 4,
 "nbformat_minor": 4
}
